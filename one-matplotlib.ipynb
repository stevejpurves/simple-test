{
 "cells": [
  {
   "cell_type": "markdown",
   "id": "12b25d5c",
   "metadata": {
    "user_expressions": []
   },
   "source": [
    "---\n",
    "title: The Matplotlib Notebook\n",
    "thebe: false\n",
    "---"
   ]
  },
  {
   "cell_type": "code",
   "execution_count": 4,
   "id": "6507ba66-379d-4389-98e8-47859319248e",
   "metadata": {},
   "outputs": [
    {
     "name": "stdout",
     "output_type": "stream",
     "text": [
      "Hello Stream Output\n"
     ]
    },
    {
     "data": {
      "image/png": "[encoded data removed]",
      "text/plain": [
       "<Figure size 432x288 with 1 Axes>"
      ]
     },
     "metadata": {
      "needs_background": "light"
     },
     "output_type": "display_data"
    }
   ],
   "source": [
    "#| caption: Matplotlib plot in a figure in the notebook\n",
    "#| label: matplotlib-figure-one\n",
    "\n",
    "import numpy as np\n",
    "import pandas as pd\n",
    "import matplotlib.pyplot as plt\n",
    "\n",
    "plt.imshow(np.random.random((3,3)));\n",
    "print(\"Hello Stream Output\")\n"
   ]
  },
  {
   "cell_type": "code",
   "execution_count": null,
   "id": "c3230c9c-f0dd-4622-8dbd-3c0d4e4ad92b",
   "metadata": {},
   "outputs": [],
   "source": []
  },
  {
   "cell_type": "code",
   "execution_count": null,
   "id": "71a8f690-00e0-47d0-b487-0e4601158de3",
   "metadata": {},
   "outputs": [],
   "source": []
  }
 ],
 "metadata": {
  "kernelspec": {
   "display_name": "Python 3 (ipykernel)",
   "language": "python",
   "name": "python3"
  },
  "language_info": {
   "codemirror_mode": {
    "name": "ipython",
    "version": 3
   },
   "file_extension": ".py",
   "mimetype": "text/x-python",
   "name": "python",
   "nbconvert_exporter": "python",
   "pygments_lexer": "ipython3",
   "version": "3.9.15"
  }
 },
 "nbformat": 4,
 "nbformat_minor": 5
}
